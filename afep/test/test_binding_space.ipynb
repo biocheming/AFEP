{
 "cells": [
  {
   "cell_type": "code",
   "execution_count": 1,
   "metadata": {},
   "outputs": [],
   "source": [
    "import sys\n",
    "import numpy\n",
    "import mdtraj as md"
   ]
  },
  {
   "cell_type": "code",
   "execution_count": 2,
   "metadata": {},
   "outputs": [],
   "source": [
    "traj = md.load('/Users/yuanqingwang/Desktop/afep/data/toy_solvation/input.inpcrd', top = '/Users/yuanqingwang/Desktop/afep/data/toy_solvation/input.prmtop')"
   ]
  },
  {
   "cell_type": "code",
   "execution_count": 3,
   "metadata": {},
   "outputs": [],
   "source": [
    "sys.path.append('..')\n",
    "from binding_space_analyzer import BindingSpaceAnalyer"
   ]
  },
  {
   "cell_type": "code",
   "execution_count": 4,
   "metadata": {},
   "outputs": [],
   "source": [
    "analyzer = BindingSpaceAnalyer(traj)"
   ]
  },
  {
   "cell_type": "code",
   "execution_count": 5,
   "metadata": {},
   "outputs": [
    {
     "name": "stdout",
     "output_type": "stream",
     "text": [
      "[(4, 5), (4, 6), (1, 4), (14, 15), (14, 16), (8, 10), (8, 14), (6, 8), (16, 18)]\n"
     ]
    }
   ],
   "source": [
    "heavy_bonds = analyzer.read_ligand_heavy_bonds()\n",
    "print(heavy_bonds)"
   ]
  },
  {
   "cell_type": "code",
   "execution_count": 6,
   "metadata": {},
   "outputs": [
    {
     "name": "stdout",
     "output_type": "stream",
     "text": [
      "[1, 4, 5, 6, 8, 10, 14, 15, 16, 18]\n"
     ]
    }
   ],
   "source": [
    "heavy_atoms = list(filter(lambda x: str(analyzer._traj.top.atom(x).element) != 'hydrogen', analyzer._ligand_atoms))\n",
    "print(heavy_atoms)"
   ]
  },
  {
   "cell_type": "code",
   "execution_count": 7,
   "metadata": {},
   "outputs": [
    {
     "data": {
      "text/plain": [
       "ACE0"
      ]
     },
     "execution_count": 7,
     "metadata": {},
     "output_type": "execute_result"
    }
   ],
   "source": [
    "analyzer._traj.top.atom(1).residue"
   ]
  },
  {
   "cell_type": "code",
   "execution_count": 8,
   "metadata": {
    "scrolled": true
   },
   "outputs": [
    {
     "data": {
      "text/plain": [
       "array([ 0,  1,  2,  3,  4,  5,  6,  7,  8,  9, 10, 11, 12, 13, 14, 15, 16,\n",
       "       17, 18, 19, 20, 21])"
      ]
     },
     "execution_count": 8,
     "metadata": {},
     "output_type": "execute_result"
    }
   ],
   "source": [
    "analyzer.union_receptor_neighbors()"
   ]
  },
  {
   "cell_type": "code",
   "execution_count": 11,
   "metadata": {},
   "outputs": [
    {
     "data": {
      "text/plain": [
       "(1, 10, 22, 3)"
      ]
     },
     "execution_count": 11,
     "metadata": {},
     "output_type": "execute_result"
    }
   ],
   "source": [
    "binding_space = analyzer.analyze_binding_space()\n",
    "binding_space.shape"
   ]
  },
  {
   "cell_type": "code",
   "execution_count": 10,
   "metadata": {},
   "outputs": [
    {
     "name": "stdout",
     "output_type": "stream",
     "text": [
      "(1, 2269, 3)\n"
     ]
    }
   ],
   "source": [
    "import numpy as np\n",
    "coordinates = analyzer.build_coordinate()\n",
    "neighbors = analyzer.union_receptor_neighbors()\n",
    "xyz = analyzer.xyz\n",
    "print(xyz.shape)\n",
    "n_frame = xyz.shape[0]\n",
    "xyz_neighbors = xyz[:, neighbors, :] # shape: n_frame * n_neighbors * 3\n",
    "xyz_ligand_heavy = xyz[:, analyzer.heavy_atoms, :] # shape: n_frame * n_ligand_atoms * 3\n",
    "coordinates_with_time_axis = np.tile(coordinates, (n_frame, 1, 1)) # shape: n_frame * n_ligand_atoms * n_ligand_atoms\n",
    "absolute_coordinates_with_time_axis = np.dot(coordinates_with_time_axis, xyz_ligand_heavy) # shape: n_frame * n_ligand_atoms * 3"
   ]
  },
  {
   "cell_type": "code",
   "execution_count": null,
   "metadata": {},
   "outputs": [],
   "source": []
  }
 ],
 "metadata": {
  "kernelspec": {
   "display_name": "Python 3",
   "language": "python",
   "name": "python3"
  },
  "language_info": {
   "codemirror_mode": {
    "name": "ipython",
    "version": 3
   },
   "file_extension": ".py",
   "mimetype": "text/x-python",
   "name": "python",
   "nbconvert_exporter": "python",
   "pygments_lexer": "ipython3",
   "version": "3.6.5"
  }
 },
 "nbformat": 4,
 "nbformat_minor": 2
}
