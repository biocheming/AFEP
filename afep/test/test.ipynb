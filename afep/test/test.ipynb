{
 "cells": [
  {
   "cell_type": "code",
   "execution_count": 25,
   "metadata": {},
   "outputs": [
    {
     "name": "stdout",
     "output_type": "stream",
     "text": [
      "import successful\n",
      "1\n",
      "initialize successful\n"
     ]
    }
   ],
   "source": [
    "\"\"\"\n",
    "test_yank_afep.py\n",
    "\n",
    "\"\"\"\n",
    "import os\n",
    "import sys\n",
    "import numpy as np\n",
    "import matplotlib\n",
    "from matplotlib import pyplot as plt\n",
    "\n",
    "sys.path.append(\"..\")\n",
    "# /Users/yuanqingwang/Documents/GitHub/afep/afep/data/abl-imatinib/explicit/experiments/complex.nc\n",
    "\n",
    "from yank_afep_analyzer import YankAtomEnergyAnalyzer\n",
    "print(\"import successful\")\n",
    "analyzer = YankAtomEnergyAnalyzer(nc_path=os.path.abspath('../data/abl-imatinib/explicit/experiments/complex.nc'),\n",
    "        nc_checkpoint_path=os.path.abspath('../data/abl-imatinib/explicit/experiments/complex_checkpoint.nc'))\n",
    "print(\"initialize successful\")"
   ]
  },
  {
   "cell_type": "code",
   "execution_count": null,
   "metadata": {},
   "outputs": [],
   "source": [
    "analyzer._analyze_atom_energies_with_all_checkpoint_positions()"
   ]
  },
  {
   "cell_type": "code",
   "execution_count": null,
   "metadata": {},
   "outputs": [],
   "source": [
    "lambda_shedule = analyzer.checkpoint_lambda_electrostatics_schedule\n",
    "print(len(lambda_shedule))"
   ]
  },
  {
   "cell_type": "code",
   "execution_count": null,
   "metadata": {},
   "outputs": [],
   "source": [
    "ligand_atoms = topography.solute_atoms\n",
    "print(ligand_atoms)\n",
    "topology = topography.topology\n",
    "atoms = list(topology.atoms)\n",
    "tags = []\n",
    "for atom in ligand_atoms:\n",
    "    print(atom, atoms[atom])\n",
    "    tags.append(str(atoms[atom]))"
   ]
  },
  {
   "cell_type": "code",
   "execution_count": null,
   "metadata": {},
   "outputs": [],
   "source": [
    "analyzer._average_free_energy_weights_by_state(1,18)"
   ]
  },
  {
   "cell_type": "code",
   "execution_count": null,
   "metadata": {
    "scrolled": true
   },
   "outputs": [],
   "source": [
    "energies_diff_matrix = []\n",
    "for idx in range(len(lambda_schedule)):\n",
    "    energies_diff = analyzer._average_free_energy_weights_by_state(idx + 1, idx + 2)\n",
    "    energies_diff_matrix.append(energies_diff)\n",
    "energies_diff_matrix = np.array(energies_diff_matrix)\n",
    "print(energies_diff_matrix)\n",
    "print(np.sum(energies_diff_matrix, axis=1))"
   ]
  },
  {
   "cell_type": "code",
   "execution_count": null,
   "metadata": {},
   "outputs": [],
   "source": [
    "plt.clf()\n",
    "for idx in range(len(ligand_atoms)):\n",
    "    tag = tags[idx]\n",
    "    x = np.array(range(17))\n",
    "    y = energies_diff_matrix[:, idx]\n",
    "    plt.plot(x, y, label=tag)\n",
    "plt.legend()\n",
    "plt.show()"
   ]
  }
 ],
 "metadata": {
  "kernelspec": {
   "display_name": "Python 3",
   "language": "python",
   "name": "python3"
  },
  "language_info": {
   "codemirror_mode": {
    "name": "ipython",
    "version": 3
   },
   "file_extension": ".py",
   "mimetype": "text/x-python",
   "name": "python",
   "nbconvert_exporter": "python",
   "pygments_lexer": "ipython3",
   "version": "3.6.5"
  }
 },
 "nbformat": 4,
 "nbformat_minor": 2
}
